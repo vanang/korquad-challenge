{
 "cells": [
  {
   "cell_type": "code",
   "execution_count": 1,
   "metadata": {},
   "outputs": [
    {
     "name": "stdout",
     "output_type": "stream",
     "text": [
      "Collecting ray[tune]\n",
      "  Downloading ray-0.8.5-cp36-cp36m-manylinux1_x86_64.whl (21.2 MB)\n",
      "\u001b[K     |████████████████████████████████| 21.2 MB 12.2 MB/s eta 0:00:01\n",
      "\u001b[?25hRequirement already satisfied: filelock in /usr/local/lib/python3.6/dist-packages (from ray[tune]) (3.0.12)\n",
      "Collecting colorama\n",
      "  Downloading colorama-0.4.3-py2.py3-none-any.whl (15 kB)\n",
      "Collecting aiohttp\n",
      "  Downloading aiohttp-3.6.2-cp36-cp36m-manylinux1_x86_64.whl (1.2 MB)\n",
      "\u001b[K     |████████████████████████████████| 1.2 MB 11.4 MB/s eta 0:00:01\n",
      "\u001b[?25hCollecting google\n",
      "  Downloading google-2.0.3-py2.py3-none-any.whl (45 kB)\n",
      "\u001b[K     |████████████████████████████████| 45 kB 7.0 MB/s  eta 0:00:01\n",
      "\u001b[?25hRequirement already satisfied: grpcio in /usr/local/lib/python3.6/dist-packages (from ray[tune]) (1.27.2)\n",
      "Collecting click\n",
      "  Downloading click-7.1.2-py2.py3-none-any.whl (82 kB)\n",
      "\u001b[K     |████████████████████████████████| 82 kB 2.7 MB/s  eta 0:00:01\n",
      "\u001b[?25hCollecting py-spy>=0.2.0\n",
      "  Downloading py_spy-0.3.3-py2.py3-none-manylinux1_x86_64.whl (2.9 MB)\n",
      "\u001b[K     |████████████████████████████████| 2.9 MB 11.4 MB/s eta 0:00:01\n",
      "\u001b[?25hRequirement already satisfied: pyyaml in /usr/local/lib/python3.6/dist-packages (from ray[tune]) (5.3.1)\n",
      "Collecting msgpack<1.0.0,>=0.6.0\n",
      "  Downloading msgpack-0.6.2-cp36-cp36m-manylinux1_x86_64.whl (249 kB)\n",
      "\u001b[K     |████████████████████████████████| 249 kB 11.4 MB/s eta 0:00:01\n",
      "\u001b[?25hRequirement already satisfied: numpy>=1.16 in /usr/local/lib/python3.6/dist-packages (from ray[tune]) (1.18.2)\n",
      "Collecting redis<3.5.0,>=3.3.2\n",
      "  Downloading redis-3.4.1-py2.py3-none-any.whl (71 kB)\n",
      "\u001b[K     |████████████████████████████████| 71 kB 8.4 MB/s  eta 0:00:01\n",
      "\u001b[?25hRequirement already satisfied: protobuf>=3.8.0 in /usr/local/lib/python3.6/dist-packages (from ray[tune]) (3.11.3)\n",
      "Requirement already satisfied: jsonschema in /usr/local/lib/python3.6/dist-packages (from ray[tune]) (3.2.0)\n",
      "Collecting tabulate; extra == \"tune\"\n",
      "  Downloading tabulate-0.8.7-py3-none-any.whl (24 kB)\n",
      "Collecting tensorboardX; extra == \"tune\"\n",
      "  Downloading tensorboardX-2.0-py2.py3-none-any.whl (195 kB)\n",
      "\u001b[K     |████████████████████████████████| 195 kB 11.3 MB/s eta 0:00:01\n",
      "\u001b[?25hRequirement already satisfied: pandas; extra == \"tune\" in /usr/local/lib/python3.6/dist-packages (from ray[tune]) (1.0.3)\n",
      "Collecting idna-ssl>=1.0; python_version < \"3.7\"\n",
      "  Downloading idna-ssl-1.1.0.tar.gz (3.4 kB)\n",
      "Requirement already satisfied: typing-extensions>=3.6.5; python_version < \"3.7\" in /usr/local/lib/python3.6/dist-packages (from aiohttp->ray[tune]) (3.7.4.1)\n",
      "Requirement already satisfied: attrs>=17.3.0 in /usr/local/lib/python3.6/dist-packages (from aiohttp->ray[tune]) (19.3.0)\n",
      "Requirement already satisfied: chardet<4.0,>=2.0 in /usr/local/lib/python3.6/dist-packages (from aiohttp->ray[tune]) (3.0.4)\n",
      "Collecting async-timeout<4.0,>=3.0\n",
      "  Downloading async_timeout-3.0.1-py3-none-any.whl (8.2 kB)\n",
      "Collecting multidict<5.0,>=4.5\n",
      "  Downloading multidict-4.7.6-cp36-cp36m-manylinux1_x86_64.whl (148 kB)\n",
      "\u001b[K     |████████████████████████████████| 148 kB 11.4 MB/s eta 0:00:01\n",
      "\u001b[?25hCollecting yarl<2.0,>=1.0\n",
      "  Downloading yarl-1.4.2-cp36-cp36m-manylinux1_x86_64.whl (252 kB)\n",
      "\u001b[K     |████████████████████████████████| 252 kB 11.4 MB/s eta 0:00:01\n",
      "\u001b[?25hCollecting beautifulsoup4\n",
      "  Downloading beautifulsoup4-4.9.1-py3-none-any.whl (115 kB)\n",
      "\u001b[K     |████████████████████████████████| 115 kB 9.7 MB/s eta 0:00:01\n",
      "\u001b[?25hRequirement already satisfied: six>=1.5.2 in /usr/local/lib/python3.6/dist-packages (from grpcio->ray[tune]) (1.14.0)\n",
      "Requirement already satisfied: setuptools in /usr/local/lib/python3.6/dist-packages (from protobuf>=3.8.0->ray[tune]) (46.0.0)\n",
      "Requirement already satisfied: importlib-metadata; python_version < \"3.8\" in /usr/local/lib/python3.6/dist-packages (from jsonschema->ray[tune]) (1.5.0)\n",
      "Requirement already satisfied: pyrsistent>=0.14.0 in /usr/local/lib/python3.6/dist-packages (from jsonschema->ray[tune]) (0.15.7)\n",
      "Requirement already satisfied: pytz>=2017.2 in /usr/local/lib/python3.6/dist-packages (from pandas; extra == \"tune\"->ray[tune]) (2019.3)\n",
      "Requirement already satisfied: python-dateutil>=2.6.1 in /usr/local/lib/python3.6/dist-packages (from pandas; extra == \"tune\"->ray[tune]) (2.8.1)\n",
      "Requirement already satisfied: idna>=2.0 in /usr/local/lib/python3.6/dist-packages (from idna-ssl>=1.0; python_version < \"3.7\"->aiohttp->ray[tune]) (2.9)\n",
      "Collecting soupsieve>1.2\n",
      "  Downloading soupsieve-2.0.1-py3-none-any.whl (32 kB)\n",
      "Requirement already satisfied: zipp>=0.5 in /usr/local/lib/python3.6/dist-packages (from importlib-metadata; python_version < \"3.8\"->jsonschema->ray[tune]) (3.1.0)\n",
      "Building wheels for collected packages: idna-ssl\n",
      "  Building wheel for idna-ssl (setup.py) ... \u001b[?25ldone\n",
      "\u001b[?25h  Created wheel for idna-ssl: filename=idna_ssl-1.1.0-py3-none-any.whl size=3161 sha256=1d9b977186dc72d322010c1fc4e6e12485ed7b63e873a457acd17d015ea5644b\n",
      "  Stored in directory: /root/.cache/pip/wheels/6a/f5/9c/f8331a854f7a8739cf0e74c13854e4dd7b1af11b04fe1dde13\n",
      "Successfully built idna-ssl\n",
      "Installing collected packages: colorama, idna-ssl, async-timeout, multidict, yarl, aiohttp, soupsieve, beautifulsoup4, google, click, py-spy, msgpack, redis, tabulate, tensorboardX, ray\n",
      "Successfully installed aiohttp-3.6.2 async-timeout-3.0.1 beautifulsoup4-4.9.1 click-7.1.2 colorama-0.4.3 google-2.0.3 idna-ssl-1.1.0 msgpack-0.6.2 multidict-4.7.6 py-spy-0.3.3 ray-0.8.5 redis-3.4.1 soupsieve-2.0.1 tabulate-0.8.7 tensorboardX-2.0 yarl-1.4.2\n",
      "\u001b[33mWARNING: You are using pip version 20.0.2; however, version 20.1.1 is available.\n",
      "You should consider upgrading via the '/usr/bin/python3.6 -m pip install --upgrade pip' command.\u001b[0m\n"
     ]
    }
   ],
   "source": [
    "!pip install 'ray[tune]'"
   ]
  },
  {
   "cell_type": "code",
   "execution_count": 4,
   "metadata": {},
   "outputs": [
    {
     "name": "stderr",
     "output_type": "stream",
     "text": [
      "2020-06-14 10:28:57,340\tWARNING tune.py:316 -- Tune detects GPUs, but no trials are using GPUs. To enable trials to use GPUs, set tune.run(resources_per_trial={'gpu': 1}...) which allows Tune to expose 1 GPU to each trial. You can also override `Trainable.default_resource_request` if using the Trainable API.\n",
      "2020-06-14 10:28:57,345\tERROR syncer.py:39 -- Log sync requires rsync to be installed.\n"
     ]
    },
    {
     "data": {
      "text/html": [
       "== Status ==<br>Memory usage on this node: 8.1/31.4 GiB<br>Using FIFO scheduling algorithm.<br>Resources requested: 1/24 CPUs, 0/1 GPUs, 0.0/17.87 GiB heap, 0.0/6.15 GiB objects<br>Result logdir: /root/ray_results/train_mnist<br>Number of trials: 3 (2 PENDING, 1 RUNNING)<br><table>\n",
       "<thead>\n",
       "<tr><th>Trial name       </th><th>status  </th><th>loc  </th><th style=\"text-align: right;\">   lr</th></tr>\n",
       "</thead>\n",
       "<tbody>\n",
       "<tr><td>train_mnist_00000</td><td>RUNNING </td><td>     </td><td style=\"text-align: right;\">0.001</td></tr>\n",
       "<tr><td>train_mnist_00001</td><td>PENDING </td><td>     </td><td style=\"text-align: right;\">0.01 </td></tr>\n",
       "<tr><td>train_mnist_00002</td><td>PENDING </td><td>     </td><td style=\"text-align: right;\">0.1  </td></tr>\n",
       "</tbody>\n",
       "</table><br><br>"
      ],
      "text/plain": [
       "<IPython.core.display.HTML object>"
      ]
     },
     "metadata": {},
     "output_type": "display_data"
    },
    {
     "name": "stderr",
     "output_type": "stream",
     "text": [
      "2020-06-14 10:28:57,354\tERROR syncer.py:39 -- Log sync requires rsync to be installed.\n",
      "2020-06-14 10:28:57,365\tERROR syncer.py:39 -- Log sync requires rsync to be installed.\n"
     ]
    },
    {
     "name": "stdout",
     "output_type": "stream",
     "text": [
      "\u001b[2m\u001b[36m(pid=4329)\u001b[0m 2020-06-14 10:28:58,061\tINFO trainable.py:217 -- Getting current IP.\n",
      "\u001b[2m\u001b[36m(pid=4342)\u001b[0m 2020-06-14 10:28:58,060\tINFO trainable.py:217 -- Getting current IP.\n",
      "\u001b[2m\u001b[36m(pid=4337)\u001b[0m 2020-06-14 10:28:58,096\tINFO trainable.py:217 -- Getting current IP.\n",
      "Result for train_mnist_00000:\n",
      "  date: 2020-06-14_10-28-58\n",
      "  done: false\n",
      "  experiment_id: 0a495fdfa1374d3daacc7d6d358f305c\n",
      "  experiment_tag: 0_lr=0.001\n",
      "  hostname: 945f9a315399\n",
      "  iterations_since_restore: 1\n",
      "  mean_accuracy: 0.103125\n",
      "  node_ip: 172.17.0.2\n",
      "  pid: 4342\n",
      "  time_since_restore: 0.16491270065307617\n",
      "  time_this_iter_s: 0.16491270065307617\n",
      "  time_total_s: 0.16491270065307617\n",
      "  timestamp: 1592130538\n",
      "  timesteps_since_restore: 0\n",
      "  training_iteration: 0\n",
      "  trial_id: '00000'\n",
      "  \n",
      "Result for train_mnist_00002:\n",
      "  date: 2020-06-14_10-28-58\n",
      "  done: false\n",
      "  experiment_id: 0568272b84b44fa383e5be8feabdbbd2\n",
      "  experiment_tag: 2_lr=0.1\n",
      "  hostname: 945f9a315399\n",
      "  iterations_since_restore: 1\n",
      "  mean_accuracy: 0.509375\n",
      "  node_ip: 172.17.0.2\n",
      "  pid: 4337\n",
      "  time_since_restore: 0.17392921447753906\n",
      "  time_this_iter_s: 0.17392921447753906\n",
      "  time_total_s: 0.17392921447753906\n",
      "  timestamp: 1592130538\n",
      "  timesteps_since_restore: 0\n",
      "  training_iteration: 0\n",
      "  trial_id: '00002'\n",
      "  \n",
      "Result for train_mnist_00001:\n",
      "  date: 2020-06-14_10-28-58\n",
      "  done: false\n",
      "  experiment_id: e0a1cfb0fbc54a18895b08037ab7b275\n",
      "  experiment_tag: 1_lr=0.01\n",
      "  hostname: 945f9a315399\n",
      "  iterations_since_restore: 1\n",
      "  mean_accuracy: 0.13125\n",
      "  node_ip: 172.17.0.2\n",
      "  pid: 4329\n",
      "  time_since_restore: 0.27487754821777344\n",
      "  time_this_iter_s: 0.27487754821777344\n",
      "  time_total_s: 0.27487754821777344\n",
      "  timestamp: 1592130538\n",
      "  timesteps_since_restore: 0\n",
      "  training_iteration: 0\n",
      "  trial_id: '00001'\n",
      "  \n"
     ]
    },
    {
     "data": {
      "text/html": [
       "== Status ==<br>Memory usage on this node: 8.2/31.4 GiB<br>Using FIFO scheduling algorithm.<br>Resources requested: 0/24 CPUs, 0/1 GPUs, 0.0/17.87 GiB heap, 0.0/6.15 GiB objects<br>Result logdir: /root/ray_results/train_mnist<br>Number of trials: 3 (3 TERMINATED)<br><table>\n",
       "<thead>\n",
       "<tr><th>Trial name       </th><th>status    </th><th>loc  </th><th style=\"text-align: right;\">   lr</th><th style=\"text-align: right;\">     acc</th><th style=\"text-align: right;\">  iter</th><th style=\"text-align: right;\">  total time (s)</th></tr>\n",
       "</thead>\n",
       "<tbody>\n",
       "<tr><td>train_mnist_00000</td><td>TERMINATED</td><td>     </td><td style=\"text-align: right;\">0.001</td><td style=\"text-align: right;\">0.184375</td><td style=\"text-align: right;\">     9</td><td style=\"text-align: right;\">         1.44945</td></tr>\n",
       "<tr><td>train_mnist_00001</td><td>TERMINATED</td><td>     </td><td style=\"text-align: right;\">0.01 </td><td style=\"text-align: right;\">0.6875  </td><td style=\"text-align: right;\">     9</td><td style=\"text-align: right;\">         1.62866</td></tr>\n",
       "<tr><td>train_mnist_00002</td><td>TERMINATED</td><td>     </td><td style=\"text-align: right;\">0.1  </td><td style=\"text-align: right;\">0.834375</td><td style=\"text-align: right;\">     9</td><td style=\"text-align: right;\">         1.51115</td></tr>\n",
       "</tbody>\n",
       "</table><br><br>"
      ],
      "text/plain": [
       "<IPython.core.display.HTML object>"
      ]
     },
     "metadata": {},
     "output_type": "display_data"
    },
    {
     "name": "stdout",
     "output_type": "stream",
     "text": [
      "Best config:  {'lr': 0.1}\n"
     ]
    }
   ],
   "source": [
    "import torch.optim as optim\n",
    "from ray import tune\n",
    "from ray.tune.examples.mnist_pytorch import get_data_loaders, ConvNet, train, test\n",
    "\n",
    "\n",
    "def train_mnist(config):\n",
    "    train_loader, test_loader = get_data_loaders()\n",
    "    model = ConvNet()\n",
    "    optimizer = optim.SGD(model.parameters(), lr=config[\"lr\"])\n",
    "    for i in range(10):\n",
    "        train(model, optimizer, train_loader)\n",
    "        acc = test(model, test_loader)\n",
    "        tune.track.log(mean_accuracy=acc)\n",
    "\n",
    "\n",
    "analysis = tune.run(\n",
    "    train_mnist, config={\"lr\": tune.grid_search([0.001, 0.01, 0.1])})\n",
    "\n",
    "print(\"Best config: \", analysis.get_best_config(metric=\"mean_accuracy\"))\n",
    "\n",
    "# Get a dataframe for analyzing trial results.\n",
    "df = analysis.dataframe()"
   ]
  },
  {
   "cell_type": "code",
   "execution_count": null,
   "metadata": {},
   "outputs": [],
   "source": []
  }
 ],
 "metadata": {
  "kernelspec": {
   "display_name": "Python 3",
   "language": "python",
   "name": "python3"
  },
  "language_info": {
   "codemirror_mode": {
    "name": "ipython",
    "version": 3
   },
   "file_extension": ".py",
   "mimetype": "text/x-python",
   "name": "python",
   "nbconvert_exporter": "python",
   "pygments_lexer": "ipython3",
   "version": "3.6.9"
  }
 },
 "nbformat": 4,
 "nbformat_minor": 4
}
